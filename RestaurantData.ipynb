{
 "cells": [
  {
   "cell_type": "code",
   "execution_count": 29,
   "id": "9b62c036-933a-4d37-8a1d-56ad635a2d3c",
   "metadata": {},
   "outputs": [],
   "source": [
    "import numpy as np\n",
    "import pandas as pd\n",
    "df = pd.read_csv('Dataset .csv')"
   ]
  },
  {
   "cell_type": "code",
   "execution_count": 31,
   "id": "3e57a690-b9d2-4d14-a60d-48e3bbea7015",
   "metadata": {},
   "outputs": [
    {
     "data": {
      "text/html": [
       "<div>\n",
       "<style scoped>\n",
       "    .dataframe tbody tr th:only-of-type {\n",
       "        vertical-align: middle;\n",
       "    }\n",
       "\n",
       "    .dataframe tbody tr th {\n",
       "        vertical-align: top;\n",
       "    }\n",
       "\n",
       "    .dataframe thead th {\n",
       "        text-align: right;\n",
       "    }\n",
       "</style>\n",
       "<table border=\"1\" class=\"dataframe\">\n",
       "  <thead>\n",
       "    <tr style=\"text-align: right;\">\n",
       "      <th></th>\n",
       "      <th>Restaurant ID</th>\n",
       "      <th>Restaurant Name</th>\n",
       "      <th>Country Code</th>\n",
       "      <th>City</th>\n",
       "      <th>Address</th>\n",
       "      <th>Locality</th>\n",
       "      <th>Locality Verbose</th>\n",
       "      <th>Longitude</th>\n",
       "      <th>Latitude</th>\n",
       "      <th>Cuisines</th>\n",
       "      <th>...</th>\n",
       "      <th>Currency</th>\n",
       "      <th>Has Table booking</th>\n",
       "      <th>Has Online delivery</th>\n",
       "      <th>Is delivering now</th>\n",
       "      <th>Switch to order menu</th>\n",
       "      <th>Price range</th>\n",
       "      <th>Aggregate rating</th>\n",
       "      <th>Rating color</th>\n",
       "      <th>Rating text</th>\n",
       "      <th>Votes</th>\n",
       "    </tr>\n",
       "  </thead>\n",
       "  <tbody>\n",
       "    <tr>\n",
       "      <th>0</th>\n",
       "      <td>6317637</td>\n",
       "      <td>Le Petit Souffle</td>\n",
       "      <td>162</td>\n",
       "      <td>Makati City</td>\n",
       "      <td>Third Floor, Century City Mall, Kalayaan Avenu...</td>\n",
       "      <td>Century City Mall, Poblacion, Makati City</td>\n",
       "      <td>Century City Mall, Poblacion, Makati City, Mak...</td>\n",
       "      <td>121.027535</td>\n",
       "      <td>14.565443</td>\n",
       "      <td>French, Japanese, Desserts</td>\n",
       "      <td>...</td>\n",
       "      <td>Botswana Pula(P)</td>\n",
       "      <td>Yes</td>\n",
       "      <td>No</td>\n",
       "      <td>No</td>\n",
       "      <td>No</td>\n",
       "      <td>3</td>\n",
       "      <td>4.8</td>\n",
       "      <td>Dark Green</td>\n",
       "      <td>Excellent</td>\n",
       "      <td>314</td>\n",
       "    </tr>\n",
       "    <tr>\n",
       "      <th>1</th>\n",
       "      <td>6304287</td>\n",
       "      <td>Izakaya Kikufuji</td>\n",
       "      <td>162</td>\n",
       "      <td>Makati City</td>\n",
       "      <td>Little Tokyo, 2277 Chino Roces Avenue, Legaspi...</td>\n",
       "      <td>Little Tokyo, Legaspi Village, Makati City</td>\n",
       "      <td>Little Tokyo, Legaspi Village, Makati City, Ma...</td>\n",
       "      <td>121.014101</td>\n",
       "      <td>14.553708</td>\n",
       "      <td>Japanese</td>\n",
       "      <td>...</td>\n",
       "      <td>Botswana Pula(P)</td>\n",
       "      <td>Yes</td>\n",
       "      <td>No</td>\n",
       "      <td>No</td>\n",
       "      <td>No</td>\n",
       "      <td>3</td>\n",
       "      <td>4.5</td>\n",
       "      <td>Dark Green</td>\n",
       "      <td>Excellent</td>\n",
       "      <td>591</td>\n",
       "    </tr>\n",
       "    <tr>\n",
       "      <th>2</th>\n",
       "      <td>6300002</td>\n",
       "      <td>Heat - Edsa Shangri-La</td>\n",
       "      <td>162</td>\n",
       "      <td>Mandaluyong City</td>\n",
       "      <td>Edsa Shangri-La, 1 Garden Way, Ortigas, Mandal...</td>\n",
       "      <td>Edsa Shangri-La, Ortigas, Mandaluyong City</td>\n",
       "      <td>Edsa Shangri-La, Ortigas, Mandaluyong City, Ma...</td>\n",
       "      <td>121.056831</td>\n",
       "      <td>14.581404</td>\n",
       "      <td>Seafood, Asian, Filipino, Indian</td>\n",
       "      <td>...</td>\n",
       "      <td>Botswana Pula(P)</td>\n",
       "      <td>Yes</td>\n",
       "      <td>No</td>\n",
       "      <td>No</td>\n",
       "      <td>No</td>\n",
       "      <td>4</td>\n",
       "      <td>4.4</td>\n",
       "      <td>Green</td>\n",
       "      <td>Very Good</td>\n",
       "      <td>270</td>\n",
       "    </tr>\n",
       "    <tr>\n",
       "      <th>3</th>\n",
       "      <td>6318506</td>\n",
       "      <td>Ooma</td>\n",
       "      <td>162</td>\n",
       "      <td>Mandaluyong City</td>\n",
       "      <td>Third Floor, Mega Fashion Hall, SM Megamall, O...</td>\n",
       "      <td>SM Megamall, Ortigas, Mandaluyong City</td>\n",
       "      <td>SM Megamall, Ortigas, Mandaluyong City, Mandal...</td>\n",
       "      <td>121.056475</td>\n",
       "      <td>14.585318</td>\n",
       "      <td>Japanese, Sushi</td>\n",
       "      <td>...</td>\n",
       "      <td>Botswana Pula(P)</td>\n",
       "      <td>No</td>\n",
       "      <td>No</td>\n",
       "      <td>No</td>\n",
       "      <td>No</td>\n",
       "      <td>4</td>\n",
       "      <td>4.9</td>\n",
       "      <td>Dark Green</td>\n",
       "      <td>Excellent</td>\n",
       "      <td>365</td>\n",
       "    </tr>\n",
       "    <tr>\n",
       "      <th>4</th>\n",
       "      <td>6314302</td>\n",
       "      <td>Sambo Kojin</td>\n",
       "      <td>162</td>\n",
       "      <td>Mandaluyong City</td>\n",
       "      <td>Third Floor, Mega Atrium, SM Megamall, Ortigas...</td>\n",
       "      <td>SM Megamall, Ortigas, Mandaluyong City</td>\n",
       "      <td>SM Megamall, Ortigas, Mandaluyong City, Mandal...</td>\n",
       "      <td>121.057508</td>\n",
       "      <td>14.584450</td>\n",
       "      <td>Japanese, Korean</td>\n",
       "      <td>...</td>\n",
       "      <td>Botswana Pula(P)</td>\n",
       "      <td>Yes</td>\n",
       "      <td>No</td>\n",
       "      <td>No</td>\n",
       "      <td>No</td>\n",
       "      <td>4</td>\n",
       "      <td>4.8</td>\n",
       "      <td>Dark Green</td>\n",
       "      <td>Excellent</td>\n",
       "      <td>229</td>\n",
       "    </tr>\n",
       "    <tr>\n",
       "      <th>...</th>\n",
       "      <td>...</td>\n",
       "      <td>...</td>\n",
       "      <td>...</td>\n",
       "      <td>...</td>\n",
       "      <td>...</td>\n",
       "      <td>...</td>\n",
       "      <td>...</td>\n",
       "      <td>...</td>\n",
       "      <td>...</td>\n",
       "      <td>...</td>\n",
       "      <td>...</td>\n",
       "      <td>...</td>\n",
       "      <td>...</td>\n",
       "      <td>...</td>\n",
       "      <td>...</td>\n",
       "      <td>...</td>\n",
       "      <td>...</td>\n",
       "      <td>...</td>\n",
       "      <td>...</td>\n",
       "      <td>...</td>\n",
       "      <td>...</td>\n",
       "    </tr>\n",
       "    <tr>\n",
       "      <th>9546</th>\n",
       "      <td>5915730</td>\n",
       "      <td>Naml۱ Gurme</td>\n",
       "      <td>208</td>\n",
       "      <td>��stanbul</td>\n",
       "      <td>Kemanke�� Karamustafa Pa��a Mahallesi, R۱ht۱m ...</td>\n",
       "      <td>Karak�_y</td>\n",
       "      <td>Karak�_y, ��stanbul</td>\n",
       "      <td>28.977392</td>\n",
       "      <td>41.022793</td>\n",
       "      <td>Turkish</td>\n",
       "      <td>...</td>\n",
       "      <td>Turkish Lira(TL)</td>\n",
       "      <td>No</td>\n",
       "      <td>No</td>\n",
       "      <td>No</td>\n",
       "      <td>No</td>\n",
       "      <td>3</td>\n",
       "      <td>4.1</td>\n",
       "      <td>Green</td>\n",
       "      <td>Very Good</td>\n",
       "      <td>788</td>\n",
       "    </tr>\n",
       "    <tr>\n",
       "      <th>9547</th>\n",
       "      <td>5908749</td>\n",
       "      <td>Ceviz A��ac۱</td>\n",
       "      <td>208</td>\n",
       "      <td>��stanbul</td>\n",
       "      <td>Ko��uyolu Mahallesi, Muhittin ��st�_nda�� Cadd...</td>\n",
       "      <td>Ko��uyolu</td>\n",
       "      <td>Ko��uyolu, ��stanbul</td>\n",
       "      <td>29.041297</td>\n",
       "      <td>41.009847</td>\n",
       "      <td>World Cuisine, Patisserie, Cafe</td>\n",
       "      <td>...</td>\n",
       "      <td>Turkish Lira(TL)</td>\n",
       "      <td>No</td>\n",
       "      <td>No</td>\n",
       "      <td>No</td>\n",
       "      <td>No</td>\n",
       "      <td>3</td>\n",
       "      <td>4.2</td>\n",
       "      <td>Green</td>\n",
       "      <td>Very Good</td>\n",
       "      <td>1034</td>\n",
       "    </tr>\n",
       "    <tr>\n",
       "      <th>9548</th>\n",
       "      <td>5915807</td>\n",
       "      <td>Huqqa</td>\n",
       "      <td>208</td>\n",
       "      <td>��stanbul</td>\n",
       "      <td>Kuru�_e��me Mahallesi, Muallim Naci Caddesi, N...</td>\n",
       "      <td>Kuru�_e��me</td>\n",
       "      <td>Kuru�_e��me, ��stanbul</td>\n",
       "      <td>29.034640</td>\n",
       "      <td>41.055817</td>\n",
       "      <td>Italian, World Cuisine</td>\n",
       "      <td>...</td>\n",
       "      <td>Turkish Lira(TL)</td>\n",
       "      <td>No</td>\n",
       "      <td>No</td>\n",
       "      <td>No</td>\n",
       "      <td>No</td>\n",
       "      <td>4</td>\n",
       "      <td>3.7</td>\n",
       "      <td>Yellow</td>\n",
       "      <td>Good</td>\n",
       "      <td>661</td>\n",
       "    </tr>\n",
       "    <tr>\n",
       "      <th>9549</th>\n",
       "      <td>5916112</td>\n",
       "      <td>A���k Kahve</td>\n",
       "      <td>208</td>\n",
       "      <td>��stanbul</td>\n",
       "      <td>Kuru�_e��me Mahallesi, Muallim Naci Caddesi, N...</td>\n",
       "      <td>Kuru�_e��me</td>\n",
       "      <td>Kuru�_e��me, ��stanbul</td>\n",
       "      <td>29.036019</td>\n",
       "      <td>41.057979</td>\n",
       "      <td>Restaurant Cafe</td>\n",
       "      <td>...</td>\n",
       "      <td>Turkish Lira(TL)</td>\n",
       "      <td>No</td>\n",
       "      <td>No</td>\n",
       "      <td>No</td>\n",
       "      <td>No</td>\n",
       "      <td>4</td>\n",
       "      <td>4.0</td>\n",
       "      <td>Green</td>\n",
       "      <td>Very Good</td>\n",
       "      <td>901</td>\n",
       "    </tr>\n",
       "    <tr>\n",
       "      <th>9550</th>\n",
       "      <td>5927402</td>\n",
       "      <td>Walter's Coffee Roastery</td>\n",
       "      <td>208</td>\n",
       "      <td>��stanbul</td>\n",
       "      <td>Cafea��a Mahallesi, Bademalt۱ Sokak, No 21/B, ...</td>\n",
       "      <td>Moda</td>\n",
       "      <td>Moda, ��stanbul</td>\n",
       "      <td>29.026016</td>\n",
       "      <td>40.984776</td>\n",
       "      <td>Cafe</td>\n",
       "      <td>...</td>\n",
       "      <td>Turkish Lira(TL)</td>\n",
       "      <td>No</td>\n",
       "      <td>No</td>\n",
       "      <td>No</td>\n",
       "      <td>No</td>\n",
       "      <td>2</td>\n",
       "      <td>4.0</td>\n",
       "      <td>Green</td>\n",
       "      <td>Very Good</td>\n",
       "      <td>591</td>\n",
       "    </tr>\n",
       "  </tbody>\n",
       "</table>\n",
       "<p>9551 rows × 21 columns</p>\n",
       "</div>"
      ],
      "text/plain": [
       "      Restaurant ID           Restaurant Name  Country Code              City  \\\n",
       "0           6317637          Le Petit Souffle           162       Makati City   \n",
       "1           6304287          Izakaya Kikufuji           162       Makati City   \n",
       "2           6300002    Heat - Edsa Shangri-La           162  Mandaluyong City   \n",
       "3           6318506                      Ooma           162  Mandaluyong City   \n",
       "4           6314302               Sambo Kojin           162  Mandaluyong City   \n",
       "...             ...                       ...           ...               ...   \n",
       "9546        5915730               Naml۱ Gurme           208         ��stanbul   \n",
       "9547        5908749              Ceviz A��ac۱           208         ��stanbul   \n",
       "9548        5915807                     Huqqa           208         ��stanbul   \n",
       "9549        5916112               A���k Kahve           208         ��stanbul   \n",
       "9550        5927402  Walter's Coffee Roastery           208         ��stanbul   \n",
       "\n",
       "                                                Address  \\\n",
       "0     Third Floor, Century City Mall, Kalayaan Avenu...   \n",
       "1     Little Tokyo, 2277 Chino Roces Avenue, Legaspi...   \n",
       "2     Edsa Shangri-La, 1 Garden Way, Ortigas, Mandal...   \n",
       "3     Third Floor, Mega Fashion Hall, SM Megamall, O...   \n",
       "4     Third Floor, Mega Atrium, SM Megamall, Ortigas...   \n",
       "...                                                 ...   \n",
       "9546  Kemanke�� Karamustafa Pa��a Mahallesi, R۱ht۱m ...   \n",
       "9547  Ko��uyolu Mahallesi, Muhittin ��st�_nda�� Cadd...   \n",
       "9548  Kuru�_e��me Mahallesi, Muallim Naci Caddesi, N...   \n",
       "9549  Kuru�_e��me Mahallesi, Muallim Naci Caddesi, N...   \n",
       "9550  Cafea��a Mahallesi, Bademalt۱ Sokak, No 21/B, ...   \n",
       "\n",
       "                                        Locality  \\\n",
       "0      Century City Mall, Poblacion, Makati City   \n",
       "1     Little Tokyo, Legaspi Village, Makati City   \n",
       "2     Edsa Shangri-La, Ortigas, Mandaluyong City   \n",
       "3         SM Megamall, Ortigas, Mandaluyong City   \n",
       "4         SM Megamall, Ortigas, Mandaluyong City   \n",
       "...                                          ...   \n",
       "9546                                    Karak�_y   \n",
       "9547                                   Ko��uyolu   \n",
       "9548                                 Kuru�_e��me   \n",
       "9549                                 Kuru�_e��me   \n",
       "9550                                        Moda   \n",
       "\n",
       "                                       Locality Verbose   Longitude  \\\n",
       "0     Century City Mall, Poblacion, Makati City, Mak...  121.027535   \n",
       "1     Little Tokyo, Legaspi Village, Makati City, Ma...  121.014101   \n",
       "2     Edsa Shangri-La, Ortigas, Mandaluyong City, Ma...  121.056831   \n",
       "3     SM Megamall, Ortigas, Mandaluyong City, Mandal...  121.056475   \n",
       "4     SM Megamall, Ortigas, Mandaluyong City, Mandal...  121.057508   \n",
       "...                                                 ...         ...   \n",
       "9546                                Karak�_y, ��stanbul   28.977392   \n",
       "9547                               Ko��uyolu, ��stanbul   29.041297   \n",
       "9548                             Kuru�_e��me, ��stanbul   29.034640   \n",
       "9549                             Kuru�_e��me, ��stanbul   29.036019   \n",
       "9550                                    Moda, ��stanbul   29.026016   \n",
       "\n",
       "       Latitude                          Cuisines  ...          Currency  \\\n",
       "0     14.565443        French, Japanese, Desserts  ...  Botswana Pula(P)   \n",
       "1     14.553708                          Japanese  ...  Botswana Pula(P)   \n",
       "2     14.581404  Seafood, Asian, Filipino, Indian  ...  Botswana Pula(P)   \n",
       "3     14.585318                   Japanese, Sushi  ...  Botswana Pula(P)   \n",
       "4     14.584450                  Japanese, Korean  ...  Botswana Pula(P)   \n",
       "...         ...                               ...  ...               ...   \n",
       "9546  41.022793                           Turkish  ...  Turkish Lira(TL)   \n",
       "9547  41.009847   World Cuisine, Patisserie, Cafe  ...  Turkish Lira(TL)   \n",
       "9548  41.055817            Italian, World Cuisine  ...  Turkish Lira(TL)   \n",
       "9549  41.057979                   Restaurant Cafe  ...  Turkish Lira(TL)   \n",
       "9550  40.984776                              Cafe  ...  Turkish Lira(TL)   \n",
       "\n",
       "     Has Table booking Has Online delivery Is delivering now  \\\n",
       "0                  Yes                  No                No   \n",
       "1                  Yes                  No                No   \n",
       "2                  Yes                  No                No   \n",
       "3                   No                  No                No   \n",
       "4                  Yes                  No                No   \n",
       "...                ...                 ...               ...   \n",
       "9546                No                  No                No   \n",
       "9547                No                  No                No   \n",
       "9548                No                  No                No   \n",
       "9549                No                  No                No   \n",
       "9550                No                  No                No   \n",
       "\n",
       "     Switch to order menu Price range  Aggregate rating  Rating color  \\\n",
       "0                      No           3               4.8    Dark Green   \n",
       "1                      No           3               4.5    Dark Green   \n",
       "2                      No           4               4.4         Green   \n",
       "3                      No           4               4.9    Dark Green   \n",
       "4                      No           4               4.8    Dark Green   \n",
       "...                   ...         ...               ...           ...   \n",
       "9546                   No           3               4.1         Green   \n",
       "9547                   No           3               4.2         Green   \n",
       "9548                   No           4               3.7        Yellow   \n",
       "9549                   No           4               4.0         Green   \n",
       "9550                   No           2               4.0         Green   \n",
       "\n",
       "     Rating text Votes  \n",
       "0      Excellent   314  \n",
       "1      Excellent   591  \n",
       "2      Very Good   270  \n",
       "3      Excellent   365  \n",
       "4      Excellent   229  \n",
       "...          ...   ...  \n",
       "9546   Very Good   788  \n",
       "9547   Very Good  1034  \n",
       "9548        Good   661  \n",
       "9549   Very Good   901  \n",
       "9550   Very Good   591  \n",
       "\n",
       "[9551 rows x 21 columns]"
      ]
     },
     "execution_count": 31,
     "metadata": {},
     "output_type": "execute_result"
    }
   ],
   "source": [
    "df"
   ]
  },
  {
   "cell_type": "code",
   "execution_count": null,
   "id": "52e8f840-9459-433c-b3eb-5d788b35cd28",
   "metadata": {},
   "outputs": [],
   "source": []
  },
  {
   "cell_type": "markdown",
   "id": "278f1b68-91c1-4d87-8dee-561e1af38de4",
   "metadata": {},
   "source": [
    "#Determine the top 3 most common cuisine in the dataset"
   ]
  },
  {
   "cell_type": "code",
   "execution_count": 9,
   "id": "69a90963-061d-4ce2-a3b1-6d63cbb594d4",
   "metadata": {},
   "outputs": [],
   "source": [
    "top_cuisines = df['Cuisines'].value_counts().head(3)"
   ]
  },
  {
   "cell_type": "code",
   "execution_count": 11,
   "id": "c4867edb-902d-45c6-a6aa-28dc6761a270",
   "metadata": {},
   "outputs": [
    {
     "name": "stdout",
     "output_type": "stream",
     "text": [
      "Cuisines\n",
      "North Indian             936\n",
      "North Indian, Chinese    511\n",
      "Chinese                  354\n",
      "Name: count, dtype: int64\n"
     ]
    }
   ],
   "source": [
    "print(top_cuisines)"
   ]
  },
  {
   "cell_type": "code",
   "execution_count": 40,
   "id": "804eca1f-429e-4ca0-82e7-d96e0e6970b2",
   "metadata": {},
   "outputs": [
    {
     "data": {
      "text/html": [
       "<div>\n",
       "<style scoped>\n",
       "    .dataframe tbody tr th:only-of-type {\n",
       "        vertical-align: middle;\n",
       "    }\n",
       "\n",
       "    .dataframe tbody tr th {\n",
       "        vertical-align: top;\n",
       "    }\n",
       "\n",
       "    .dataframe thead th {\n",
       "        text-align: right;\n",
       "    }\n",
       "</style>\n",
       "<table border=\"1\" class=\"dataframe\">\n",
       "  <thead>\n",
       "    <tr style=\"text-align: right;\">\n",
       "      <th></th>\n",
       "      <th>count</th>\n",
       "    </tr>\n",
       "    <tr>\n",
       "      <th>Cuisines</th>\n",
       "      <th></th>\n",
       "    </tr>\n",
       "  </thead>\n",
       "  <tbody>\n",
       "    <tr>\n",
       "      <th>North Indian</th>\n",
       "      <td>936</td>\n",
       "    </tr>\n",
       "    <tr>\n",
       "      <th>North Indian, Chinese</th>\n",
       "      <td>511</td>\n",
       "    </tr>\n",
       "    <tr>\n",
       "      <th>Chinese</th>\n",
       "      <td>354</td>\n",
       "    </tr>\n",
       "  </tbody>\n",
       "</table>\n",
       "</div>"
      ],
      "text/plain": [
       "                       count\n",
       "Cuisines                    \n",
       "North Indian             936\n",
       "North Indian, Chinese    511\n",
       "Chinese                  354"
      ]
     },
     "execution_count": 40,
     "metadata": {},
     "output_type": "execute_result"
    }
   ],
   "source": [
    "pd.DataFrame(top_cuisines)"
   ]
  },
  {
   "cell_type": "code",
   "execution_count": null,
   "id": "f8015eab-9379-4d81-b4b3-270f00429c92",
   "metadata": {},
   "outputs": [],
   "source": []
  },
  {
   "cell_type": "markdown",
   "id": "12b1efdb-ae8a-4b64-bb54-48f0a5da15b2",
   "metadata": {},
   "source": [
    "#Calculate the percentage of the restaurants that serve each of the top 3 cuisine"
   ]
  },
  {
   "cell_type": "code",
   "execution_count": 107,
   "id": "6a9d8bd6-fd12-43e3-aeea-d8e85dda690c",
   "metadata": {},
   "outputs": [],
   "source": [
    "count = df['Cuisines'].value_counts()"
   ]
  },
  {
   "cell_type": "code",
   "execution_count": 109,
   "id": "bb63ffe3-3d77-42c2-9262-4601d7d4ef3d",
   "metadata": {},
   "outputs": [
    {
     "data": {
      "text/plain": [
       "Cuisines\n",
       "North Indian                                             936\n",
       "North Indian, Chinese                                    511\n",
       "Chinese                                                  354\n",
       "Fast Food                                                354\n",
       "North Indian, Mughlai                                    334\n",
       "                                                        ... \n",
       "Bengali, Fast Food                                         1\n",
       "North Indian, Rajasthani, Asian                            1\n",
       "Chinese, Thai, Malaysian, Indonesian                       1\n",
       "Bakery, Desserts, North Indian, Bengali, South Indian      1\n",
       "Italian, World Cuisine                                     1\n",
       "Name: count, Length: 1825, dtype: int64"
      ]
     },
     "execution_count": 109,
     "metadata": {},
     "output_type": "execute_result"
    }
   ],
   "source": [
    "count"
   ]
  },
  {
   "cell_type": "code",
   "execution_count": 111,
   "id": "eb0355be-a4fa-44e1-bb40-ce2e6843652c",
   "metadata": {},
   "outputs": [],
   "source": [
    "total = len(df)"
   ]
  },
  {
   "cell_type": "code",
   "execution_count": 113,
   "id": "5f82e227-2162-4b9d-86cc-26047a6ca7e5",
   "metadata": {},
   "outputs": [
    {
     "data": {
      "text/plain": [
       "9551"
      ]
     },
     "execution_count": 113,
     "metadata": {},
     "output_type": "execute_result"
    }
   ],
   "source": [
    "total"
   ]
  },
  {
   "cell_type": "code",
   "execution_count": 115,
   "id": "0652a32d-c193-4c09-9f29-c43447d2ac72",
   "metadata": {},
   "outputs": [],
   "source": [
    "percentage = (count / total) * 100"
   ]
  },
  {
   "cell_type": "code",
   "execution_count": 117,
   "id": "bfb28bb4-f7cb-4e46-8a7b-798b62f38642",
   "metadata": {},
   "outputs": [
    {
     "data": {
      "text/plain": [
       "Cuisines\n",
       "North Indian             9.80\n",
       "North Indian, Chinese    5.35\n",
       "Chinese                  3.71\n",
       "Name: count, dtype: float64"
      ]
     },
     "execution_count": 117,
     "metadata": {},
     "output_type": "execute_result"
    }
   ],
   "source": [
    "percentage.head(3).round(2)"
   ]
  },
  {
   "cell_type": "code",
   "execution_count": 119,
   "id": "f860a462-a952-47ae-8628-3ee792288012",
   "metadata": {},
   "outputs": [
    {
     "data": {
      "text/html": [
       "<div>\n",
       "<style scoped>\n",
       "    .dataframe tbody tr th:only-of-type {\n",
       "        vertical-align: middle;\n",
       "    }\n",
       "\n",
       "    .dataframe tbody tr th {\n",
       "        vertical-align: top;\n",
       "    }\n",
       "\n",
       "    .dataframe thead th {\n",
       "        text-align: right;\n",
       "    }\n",
       "</style>\n",
       "<table border=\"1\" class=\"dataframe\">\n",
       "  <thead>\n",
       "    <tr style=\"text-align: right;\">\n",
       "      <th></th>\n",
       "      <th>count</th>\n",
       "    </tr>\n",
       "    <tr>\n",
       "      <th>Cuisines</th>\n",
       "      <th></th>\n",
       "    </tr>\n",
       "  </thead>\n",
       "  <tbody>\n",
       "    <tr>\n",
       "      <th>North Indian</th>\n",
       "      <td>9.80</td>\n",
       "    </tr>\n",
       "    <tr>\n",
       "      <th>North Indian, Chinese</th>\n",
       "      <td>5.35</td>\n",
       "    </tr>\n",
       "    <tr>\n",
       "      <th>Chinese</th>\n",
       "      <td>3.71</td>\n",
       "    </tr>\n",
       "  </tbody>\n",
       "</table>\n",
       "</div>"
      ],
      "text/plain": [
       "                       count\n",
       "Cuisines                    \n",
       "North Indian            9.80\n",
       "North Indian, Chinese   5.35\n",
       "Chinese                 3.71"
      ]
     },
     "execution_count": 119,
     "metadata": {},
     "output_type": "execute_result"
    }
   ],
   "source": [
    "pd.DataFrame(percentage.head(3).round(2))"
   ]
  },
  {
   "cell_type": "code",
   "execution_count": null,
   "id": "668704b0-6af7-4eb0-b741-bbe7609f847c",
   "metadata": {},
   "outputs": [],
   "source": []
  },
  {
   "cell_type": "markdown",
   "id": "3bb99509-d39d-4735-a2fd-8f9012647be3",
   "metadata": {},
   "source": [
    "#Identify the city with the highest number of restaurant in the dataset"
   ]
  },
  {
   "cell_type": "code",
   "execution_count": 40,
   "id": "4ffa8565-14c9-40cf-8846-481d0a1df081",
   "metadata": {},
   "outputs": [
    {
     "data": {
      "text/plain": [
       "City\n",
       "New Delhi           5473\n",
       "Gurgaon             1118\n",
       "Noida               1080\n",
       "Faridabad            251\n",
       "Ghaziabad             25\n",
       "                    ... \n",
       "Panchkula              1\n",
       "Mc Millan              1\n",
       "Mayfield               1\n",
       "Macedon                1\n",
       "Vineland Station       1\n",
       "Name: count, Length: 141, dtype: int64"
      ]
     },
     "execution_count": 40,
     "metadata": {},
     "output_type": "execute_result"
    }
   ],
   "source": [
    "df['City'].value_counts()"
   ]
  },
  {
   "cell_type": "code",
   "execution_count": 13,
   "id": "46b334f4-58f8-40b3-a88c-45a039ac516f",
   "metadata": {},
   "outputs": [
    {
     "data": {
      "text/plain": [
       "'New Delhi'"
      ]
     },
     "execution_count": 13,
     "metadata": {},
     "output_type": "execute_result"
    }
   ],
   "source": [
    "df['City'].value_counts().idxmax()"
   ]
  },
  {
   "cell_type": "code",
   "execution_count": 15,
   "id": "c9b80173-2943-4c11-af9a-8ac28c0cc4c1",
   "metadata": {},
   "outputs": [
    {
     "data": {
      "text/plain": [
       "5473"
      ]
     },
     "execution_count": 15,
     "metadata": {},
     "output_type": "execute_result"
    }
   ],
   "source": [
    "df['City'].value_counts().max()"
   ]
  },
  {
   "cell_type": "code",
   "execution_count": null,
   "id": "486215d1-68f6-4205-9032-0c39596db347",
   "metadata": {},
   "outputs": [],
   "source": []
  },
  {
   "cell_type": "markdown",
   "id": "66def4ac-a6fb-428c-88f4-40d1fecdb6c5",
   "metadata": {},
   "source": [
    "#Calculate the average rating for restaurants in each city"
   ]
  },
  {
   "cell_type": "code",
   "execution_count": 113,
   "id": "72b59ee2-c84d-4702-8e89-54dd17267c16",
   "metadata": {},
   "outputs": [
    {
     "data": {
      "text/plain": [
       "City\n",
       "Abu Dhabi          4.30\n",
       "Agra               3.96\n",
       "Ahmedabad          4.16\n",
       "Albany             3.56\n",
       "Allahabad          3.40\n",
       "                   ... \n",
       "Weirton            3.90\n",
       "Wellington City    4.25\n",
       "Winchester Bay     3.20\n",
       "Yorkton            3.30\n",
       "��stanbul          4.29\n",
       "Name: Aggregate rating, Length: 141, dtype: float64"
      ]
     },
     "execution_count": 113,
     "metadata": {},
     "output_type": "execute_result"
    }
   ],
   "source": [
    "df.groupby('City')['Aggregate rating'].mean().round(2)"
   ]
  },
  {
   "cell_type": "code",
   "execution_count": null,
   "id": "ba4a113e-99a0-40e5-aa5a-794fb85b90c2",
   "metadata": {},
   "outputs": [],
   "source": []
  },
  {
   "cell_type": "markdown",
   "id": "77e1c648-fa8e-433d-b7f5-563b01a26837",
   "metadata": {},
   "source": [
    "#Determine the city with the highest average rating"
   ]
  },
  {
   "cell_type": "code",
   "execution_count": 129,
   "id": "f3c46b96-7b91-4b13-9693-955724531bba",
   "metadata": {},
   "outputs": [
    {
     "data": {
      "text/plain": [
       "'Inner City'"
      ]
     },
     "execution_count": 129,
     "metadata": {},
     "output_type": "execute_result"
    }
   ],
   "source": [
    "df.groupby('City')['Aggregate rating'].mean().round(2).idxmax()"
   ]
  },
  {
   "cell_type": "code",
   "execution_count": 131,
   "id": "90835bba-1413-432e-bf6e-8ef2873ac1b7",
   "metadata": {},
   "outputs": [
    {
     "data": {
      "text/plain": [
       "4.9"
      ]
     },
     "execution_count": 131,
     "metadata": {},
     "output_type": "execute_result"
    }
   ],
   "source": [
    "df.groupby('City')['Aggregate rating'].mean().round(2).max()"
   ]
  },
  {
   "cell_type": "code",
   "execution_count": null,
   "id": "7f234305-2ed4-48e7-a6ec-67d43e84b4c0",
   "metadata": {},
   "outputs": [],
   "source": []
  },
  {
   "cell_type": "markdown",
   "id": "af1db034-b856-4316-b8c7-f4ad357088b8",
   "metadata": {},
   "source": [
    "#Create a histogram or bar chart to visualize the distribution of price ranges among the restaurants"
   ]
  },
  {
   "cell_type": "code",
   "execution_count": 28,
   "id": "f96bcc5a-f058-4463-b8d9-7728fa2992b2",
   "metadata": {},
   "outputs": [],
   "source": [
    "price_count = df['Price range'].value_counts()"
   ]
  },
  {
   "cell_type": "code",
   "execution_count": 30,
   "id": "1631808e-d01c-45bf-8ef2-5a97f46a9344",
   "metadata": {},
   "outputs": [
    {
     "data": {
      "text/plain": [
       "Price range\n",
       "1    4444\n",
       "2    3113\n",
       "3    1408\n",
       "4     586\n",
       "Name: count, dtype: int64"
      ]
     },
     "execution_count": 30,
     "metadata": {},
     "output_type": "execute_result"
    }
   ],
   "source": [
    "price_count"
   ]
  },
  {
   "cell_type": "markdown",
   "id": "e709dfa0-427e-4f69-9cbe-05d32887f1a7",
   "metadata": {},
   "source": [
    "#Plot the bar chart"
   ]
  },
  {
   "cell_type": "code",
   "execution_count": 34,
   "id": "d9f9f027-d473-4cc5-b513-4c63cc2253b0",
   "metadata": {},
   "outputs": [
    {
     "name": "stderr",
     "output_type": "stream",
     "text": [
      "Matplotlib is building the font cache; this may take a moment.\n"
     ]
    }
   ],
   "source": [
    "import matplotlib.pyplot as plt"
   ]
  },
  {
   "cell_type": "code",
   "execution_count": 68,
   "id": "08e18265-cde7-4d2c-a338-488206264d28",
   "metadata": {},
   "outputs": [
    {
     "data": {
      "image/png": "[encoded data removed]",
      "text/plain": [
       "<Figure size 400x400 with 1 Axes>"
      ]
     },
     "metadata": {},
     "output_type": "display_data"
    }
   ],
   "source": [
    "plt.figure(figsize=(4,4))\n",
    "price_count.plot(kind='bar', color='skyblue', edgecolor='black')\n",
    "plt.title('Distribution of Price Ranges', fontsize=13)\n",
    "plt.xlabel('Price Range', fontsize=11)\n",
    "plt.ylabel('No. of Restaurant', fontsize=11)\n",
    "plt.xticks(rotation=360)\n",
    "plt.show()"
   ]
  },
  {
   "cell_type": "code",
   "execution_count": null,
   "id": "0c792860-b7a3-4316-9112-5f3e03175546",
   "metadata": {},
   "outputs": [],
   "source": []
  },
  {
   "cell_type": "markdown",
   "id": "1a175dba-0303-454f-91ff-31e2060223f3",
   "metadata": {},
   "source": [
    "#Calculate the percentage of restaurants in each price range category"
   ]
  },
  {
   "cell_type": "code",
   "execution_count": 72,
   "id": "a21649eb-1ecd-42c9-8108-d7cc6578eb48",
   "metadata": {},
   "outputs": [],
   "source": [
    "price_range = df['Price range'].value_counts()"
   ]
  },
  {
   "cell_type": "code",
   "execution_count": 74,
   "id": "b903a7a0-ab70-47c0-a5ad-179196ecb12c",
   "metadata": {},
   "outputs": [
    {
     "data": {
      "text/plain": [
       "Price range\n",
       "1    4444\n",
       "2    3113\n",
       "3    1408\n",
       "4     586\n",
       "Name: count, dtype: int64"
      ]
     },
     "execution_count": 74,
     "metadata": {},
     "output_type": "execute_result"
    }
   ],
   "source": [
    "price_range"
   ]
  },
  {
   "cell_type": "code",
   "execution_count": 76,
   "id": "2d512bda-fdf1-42ad-ba8c-952033ecbf6e",
   "metadata": {},
   "outputs": [],
   "source": [
    "total_rest = len(df)"
   ]
  },
  {
   "cell_type": "code",
   "execution_count": 78,
   "id": "2633752f-b150-492f-8faa-79d3d2722ea3",
   "metadata": {},
   "outputs": [
    {
     "data": {
      "text/plain": [
       "9551"
      ]
     },
     "execution_count": 78,
     "metadata": {},
     "output_type": "execute_result"
    }
   ],
   "source": [
    "total_rest"
   ]
  },
  {
   "cell_type": "code",
   "execution_count": 101,
   "id": "2c56b87c-85a7-43f8-95f9-73a080b8b3d4",
   "metadata": {},
   "outputs": [],
   "source": [
    "percent = ((price_range / total_rest) * 100).round(2)"
   ]
  },
  {
   "cell_type": "code",
   "execution_count": 103,
   "id": "5d272aad-2277-47f8-b2f9-038309324aa4",
   "metadata": {},
   "outputs": [
    {
     "data": {
      "text/plain": [
       "Price range\n",
       "1    46.53\n",
       "2    32.59\n",
       "3    14.74\n",
       "4     6.14\n",
       "Name: count, dtype: float64"
      ]
     },
     "execution_count": 103,
     "metadata": {},
     "output_type": "execute_result"
    }
   ],
   "source": [
    "percent"
   ]
  },
  {
   "cell_type": "code",
   "execution_count": 105,
   "id": "29578f11-1279-415a-992c-cfdc2c9b157b",
   "metadata": {},
   "outputs": [
    {
     "data": {
      "text/html": [
       "<div>\n",
       "<style scoped>\n",
       "    .dataframe tbody tr th:only-of-type {\n",
       "        vertical-align: middle;\n",
       "    }\n",
       "\n",
       "    .dataframe tbody tr th {\n",
       "        vertical-align: top;\n",
       "    }\n",
       "\n",
       "    .dataframe thead th {\n",
       "        text-align: right;\n",
       "    }\n",
       "</style>\n",
       "<table border=\"1\" class=\"dataframe\">\n",
       "  <thead>\n",
       "    <tr style=\"text-align: right;\">\n",
       "      <th></th>\n",
       "      <th>count</th>\n",
       "    </tr>\n",
       "    <tr>\n",
       "      <th>Price range</th>\n",
       "      <th></th>\n",
       "    </tr>\n",
       "  </thead>\n",
       "  <tbody>\n",
       "    <tr>\n",
       "      <th>1</th>\n",
       "      <td>46.53</td>\n",
       "    </tr>\n",
       "    <tr>\n",
       "      <th>2</th>\n",
       "      <td>32.59</td>\n",
       "    </tr>\n",
       "    <tr>\n",
       "      <th>3</th>\n",
       "      <td>14.74</td>\n",
       "    </tr>\n",
       "    <tr>\n",
       "      <th>4</th>\n",
       "      <td>6.14</td>\n",
       "    </tr>\n",
       "  </tbody>\n",
       "</table>\n",
       "</div>"
      ],
      "text/plain": [
       "             count\n",
       "Price range       \n",
       "1            46.53\n",
       "2            32.59\n",
       "3            14.74\n",
       "4             6.14"
      ]
     },
     "execution_count": 105,
     "metadata": {},
     "output_type": "execute_result"
    }
   ],
   "source": [
    "pd.DataFrame(percent)"
   ]
  },
  {
   "cell_type": "code",
   "execution_count": null,
   "id": "f23bfbab-3ed8-4ade-9202-2907e250482f",
   "metadata": {},
   "outputs": [],
   "source": []
  },
  {
   "cell_type": "markdown",
   "id": "93569b2e-45f1-43db-a059-9e3e0ce04728",
   "metadata": {},
   "source": [
    "#Determine the percentage of restaurants that offer online delivery"
   ]
  },
  {
   "cell_type": "code",
   "execution_count": 89,
   "id": "707260e2-272b-477d-b37e-9d128ba2bfdc",
   "metadata": {},
   "outputs": [],
   "source": [
    "#Method 1"
   ]
  },
  {
   "cell_type": "code",
   "execution_count": 46,
   "id": "2dd74cad-dbd8-4b5a-8284-8fa98aa9c0d9",
   "metadata": {},
   "outputs": [
    {
     "data": {
      "text/plain": [
       "Has Online delivery\n",
       "Yes    2451\n",
       "Name: count, dtype: int64"
      ]
     },
     "execution_count": 46,
     "metadata": {},
     "output_type": "execute_result"
    }
   ],
   "source": [
    "online_deliv = df[df['Has Online delivery']=='Yes']['Has Online delivery'].value_counts()\n",
    "online_deliv"
   ]
  },
  {
   "cell_type": "code",
   "execution_count": 48,
   "id": "756c978e-aa37-42f4-b38b-e2f9f60fc4ab",
   "metadata": {},
   "outputs": [
    {
     "data": {
      "text/plain": [
       "9551"
      ]
     },
     "execution_count": 48,
     "metadata": {},
     "output_type": "execute_result"
    }
   ],
   "source": [
    "total_count = df['Has Online delivery'].count()\n",
    "total_count"
   ]
  },
  {
   "cell_type": "code",
   "execution_count": 88,
   "id": "941e7a54-85b5-4ad2-a248-fb51a48134c6",
   "metadata": {},
   "outputs": [
    {
     "data": {
      "text/plain": [
       "Has Online delivery\n",
       "Yes    25.66\n",
       "Name: count, dtype: float64"
      ]
     },
     "execution_count": 88,
     "metadata": {},
     "output_type": "execute_result"
    }
   ],
   "source": [
    "perc = ((online_deliv / total_count) * 100).round(2)\n",
    "perc"
   ]
  },
  {
   "cell_type": "code",
   "execution_count": null,
   "id": "4fe1a5ca-2517-4fed-b1da-361dc6dd37ba",
   "metadata": {},
   "outputs": [],
   "source": []
  },
  {
   "cell_type": "code",
   "execution_count": 91,
   "id": "b20a111b-562a-4c0b-8fd6-0baaed8a29c8",
   "metadata": {},
   "outputs": [],
   "source": [
    "#Method 2"
   ]
  },
  {
   "cell_type": "code",
   "execution_count": 54,
   "id": "58f7a5df-84c0-4c7f-9146-3ece0087066b",
   "metadata": {},
   "outputs": [
    {
     "data": {
      "text/plain": [
       "2451"
      ]
     },
     "execution_count": 54,
     "metadata": {},
     "output_type": "execute_result"
    }
   ],
   "source": [
    "deliv_count = df[df['Has Online delivery']=='Yes'].shape[0]\n",
    "deliv_count"
   ]
  },
  {
   "cell_type": "code",
   "execution_count": 80,
   "id": "35f849f0-e275-4676-8f3c-53c41aefed1c",
   "metadata": {},
   "outputs": [
    {
     "data": {
      "text/plain": [
       "9551"
      ]
     },
     "execution_count": 80,
     "metadata": {},
     "output_type": "execute_result"
    }
   ],
   "source": [
    "total_count_ = df.shape[0]\n",
    "total_count_ "
   ]
  },
  {
   "cell_type": "code",
   "execution_count": 94,
   "id": "b88c67e3-ac83-430c-8b44-b1733fc0c857",
   "metadata": {},
   "outputs": [
    {
     "data": {
      "text/plain": [
       "25.66"
      ]
     },
     "execution_count": 94,
     "metadata": {},
     "output_type": "execute_result"
    }
   ],
   "source": [
    "per = round((deliv_count / total_count_)*100,2)\n",
    "per"
   ]
  },
  {
   "cell_type": "code",
   "execution_count": null,
   "id": "83464862-cbf5-4c94-b2be-413c44f7220f",
   "metadata": {},
   "outputs": [],
   "source": []
  },
  {
   "cell_type": "markdown",
   "id": "f2af0757-0579-4180-bfe9-2df5edcb2221",
   "metadata": {},
   "source": [
    "#Compare the average ratings of restaurants with and without online delivery"
   ]
  },
  {
   "cell_type": "code",
   "execution_count": 105,
   "id": "da4cf9eb-b89b-4efb-ac3d-e25bc7c526d9",
   "metadata": {},
   "outputs": [
    {
     "data": {
      "text/plain": [
       "Has Online delivery\n",
       "No     2.47\n",
       "Yes    3.25\n",
       "Name: Aggregate rating, dtype: float64"
      ]
     },
     "execution_count": 105,
     "metadata": {},
     "output_type": "execute_result"
    }
   ],
   "source": [
    "df.groupby('Has Online delivery')['Aggregate rating'].mean().round(2)"
   ]
  },
  {
   "cell_type": "code",
   "execution_count": null,
   "id": "a1eeead3-1f29-4722-b4f7-587bad0b3f3e",
   "metadata": {},
   "outputs": [],
   "source": []
  },
  {
   "cell_type": "markdown",
   "id": "8ac3a40c-aa63-453d-adf4-066f2a857bc4",
   "metadata": {},
   "source": [
    "#Analyze the distribution of aggregate ratings and determine the most common rating range."
   ]
  },
  {
   "cell_type": "code",
   "execution_count": 150,
   "id": "7e264274-0889-4063-88d1-dbed07e1edf1",
   "metadata": {},
   "outputs": [
    {
     "data": {
      "text/plain": [
       "Aggregate rating\n",
       "0.0    2148\n",
       "3.2     522\n",
       "3.1     519\n",
       "3.4     498\n",
       "3.3     483\n",
       "3.5     480\n",
       "3.0     468\n",
       "3.6     458\n",
       "3.7     427\n",
       "3.8     400\n",
       "2.9     381\n",
       "3.9     335\n",
       "2.8     315\n",
       "4.1     274\n",
       "4.0     266\n",
       "2.7     250\n",
       "4.2     221\n",
       "2.6     191\n",
       "4.3     174\n",
       "4.4     144\n",
       "2.5     110\n",
       "4.5      95\n",
       "2.4      87\n",
       "4.6      78\n",
       "4.9      61\n",
       "2.3      47\n",
       "4.7      42\n",
       "2.2      27\n",
       "4.8      25\n",
       "2.1      15\n",
       "2.0       7\n",
       "1.9       2\n",
       "1.8       1\n",
       "Name: count, dtype: int64"
      ]
     },
     "execution_count": 150,
     "metadata": {},
     "output_type": "execute_result"
    }
   ],
   "source": [
    " df['Aggregate rating'].value_counts()"
   ]
  },
  {
   "cell_type": "code",
   "execution_count": 140,
   "id": "a663a34f-e893-4bd9-9265-96c0f6a7ee47",
   "metadata": {},
   "outputs": [
    {
     "data": {
      "text/plain": [
       "2148"
      ]
     },
     "execution_count": 140,
     "metadata": {},
     "output_type": "execute_result"
    }
   ],
   "source": [
    " df['Aggregate rating'].value_counts().max()"
   ]
  },
  {
   "cell_type": "code",
   "execution_count": 142,
   "id": "56412eb9-1104-4cb6-ba9d-a2c0befa8c85",
   "metadata": {},
   "outputs": [
    {
     "data": {
      "text/plain": [
       "0.0"
      ]
     },
     "execution_count": 142,
     "metadata": {},
     "output_type": "execute_result"
    }
   ],
   "source": [
    " df['Aggregate rating'].value_counts().idxmax()"
   ]
  },
  {
   "cell_type": "code",
   "execution_count": null,
   "id": "8c504996-7364-40e6-bd74-0a93d4ba560d",
   "metadata": {},
   "outputs": [],
   "source": []
  },
  {
   "cell_type": "markdown",
   "id": "7ad95469-5c5e-446f-9f5b-1ba0970d2a4e",
   "metadata": {},
   "source": [
    "#Calculate the average number of votes received by restaurants"
   ]
  },
  {
   "cell_type": "code",
   "execution_count": 158,
   "id": "aea25106-4fe4-401c-bbfd-ee7352dc781d",
   "metadata": {},
   "outputs": [
    {
     "data": {
      "text/plain": [
       "156.91"
      ]
     },
     "execution_count": 158,
     "metadata": {},
     "output_type": "execute_result"
    }
   ],
   "source": [
    "df['Votes'].mean().round(2)"
   ]
  },
  {
   "cell_type": "code",
   "execution_count": null,
   "id": "c463811c-5a6d-422b-8a8f-fb92d742113b",
   "metadata": {},
   "outputs": [],
   "source": []
  },
  {
   "cell_type": "markdown",
   "id": "1574db3b-9fc8-4152-a546-238bd1b524f2",
   "metadata": {},
   "source": [
    "#Identify the most common combinations of cuisines in the dataset"
   ]
  },
  {
   "cell_type": "code",
   "execution_count": 254,
   "id": "46376e6f-2e1f-49d1-b4ad-54f8c6d3e922",
   "metadata": {},
   "outputs": [
    {
     "data": {
      "text/plain": [
       "Cuisines\n",
       "North Indian, Chinese                         511\n",
       "North Indian, Mughlai                         334\n",
       "North Indian, Mughlai, Chinese                197\n",
       "Bakery, Desserts                              170\n",
       "Pizza, Fast Food                              131\n",
       "                                             ... \n",
       "South Indian, Desserts, Beverages               1\n",
       "Healthy Food, North Indian, Italian, Salad      1\n",
       "Bengali, Fast Food                              1\n",
       "North Indian, Rajasthani, Asian                 1\n",
       "Italian, World Cuisine                          1\n",
       "Name: count, Length: 1731, dtype: int64"
      ]
     },
     "execution_count": 254,
     "metadata": {},
     "output_type": "execute_result"
    }
   ],
   "source": [
    "df[df['Cuisines'].str.contains(',', na=False)]['Cuisines'].value_counts()"
   ]
  },
  {
   "cell_type": "code",
   "execution_count": null,
   "id": "59c133eb-e3d5-4c23-abc4-ac48a58d6c54",
   "metadata": {},
   "outputs": [],
   "source": []
  },
  {
   "cell_type": "markdown",
   "id": "d5124b98-6dec-4dc4-b1e8-2877f9c658d2",
   "metadata": {},
   "source": [
    "#Determine if certain cuisine combinations tend to have higher ratings.\n"
   ]
  },
  {
   "cell_type": "code",
   "execution_count": 97,
   "id": "b078ac64-86bb-40b9-9bbc-de001920b458",
   "metadata": {},
   "outputs": [
    {
     "data": {
      "text/plain": [
       "Cuisines\n",
       "Italian, Deli                     4.9\n",
       "Continental, Indian               4.9\n",
       "Hawaiian, Seafood                 4.9\n",
       "American, Burger, Grill           4.9\n",
       "American, Coffee and Tea          4.9\n",
       "                                 ... \n",
       "Chinese, Mithai                   0.0\n",
       "Chinese, Lucknowi                 0.0\n",
       "Bakery, Healthy Food              0.0\n",
       "North Indian, Chinese, Tibetan    0.0\n",
       "Afghani, Mughlai, Chinese         0.0\n",
       "Name: Aggregate rating, Length: 1731, dtype: float64"
      ]
     },
     "execution_count": 97,
     "metadata": {},
     "output_type": "execute_result"
    }
   ],
   "source": [
    "combo = df[df['Cuisines'].str.contains(',', na=False)]\n",
    "avg = combo.groupby('Cuisines')['Aggregate rating'].mean()\n",
    "avg.sort_values(ascending=False)"
   ]
  },
  {
   "cell_type": "code",
   "execution_count": null,
   "id": "f9fa3646-57ec-4ac8-8b75-7674798b177c",
   "metadata": {},
   "outputs": [],
   "source": []
  },
  {
   "cell_type": "markdown",
   "id": "04524cc9-61a9-4ef1-a355-249bbc3d2fe0",
   "metadata": {},
   "source": [
    "#Identify if there are any restaurant chains present in the dataset"
   ]
  },
  {
   "cell_type": "code",
   "execution_count": 16,
   "id": "00936333-fef8-4bf2-be39-d9cad4307eb2",
   "metadata": {},
   "outputs": [
    {
     "data": {
      "text/plain": [
       "Restaurant Name\n",
       "Cafe Coffee Day             83\n",
       "Domino's Pizza              79\n",
       "Subway                      63\n",
       "Green Chick Chop            51\n",
       "McDonald's                  48\n",
       "                            ..\n",
       "Odeon Social                 1\n",
       "Johnny Rockets               1\n",
       "House of Commons             1\n",
       "HotMess                      1\n",
       "Walter's Coffee Roastery     1\n",
       "Name: count, Length: 7446, dtype: int64"
      ]
     },
     "execution_count": 16,
     "metadata": {},
     "output_type": "execute_result"
    }
   ],
   "source": [
    "df['Restaurant Name'].value_counts()"
   ]
  },
  {
   "cell_type": "code",
   "execution_count": null,
   "id": "648f0bb0-151c-4e62-806c-73ff9d4f4d38",
   "metadata": {},
   "outputs": [],
   "source": []
  },
  {
   "cell_type": "markdown",
   "id": "1bde3212-8cdd-4486-b2d0-1ff9b0be4c2f",
   "metadata": {},
   "source": [
    "#Analyze the ratings and popularity of different restaurant chains"
   ]
  },
  {
   "cell_type": "code",
   "execution_count": 33,
   "id": "ac568252-ca16-45ef-b7f0-7eea4164c56c",
   "metadata": {},
   "outputs": [
    {
     "data": {
      "text/html": [
       "<div>\n",
       "<style scoped>\n",
       "    .dataframe tbody tr th:only-of-type {\n",
       "        vertical-align: middle;\n",
       "    }\n",
       "\n",
       "    .dataframe tbody tr th {\n",
       "        vertical-align: top;\n",
       "    }\n",
       "\n",
       "    .dataframe thead th {\n",
       "        text-align: right;\n",
       "    }\n",
       "</style>\n",
       "<table border=\"1\" class=\"dataframe\">\n",
       "  <thead>\n",
       "    <tr style=\"text-align: right;\">\n",
       "      <th></th>\n",
       "      <th>num_locations</th>\n",
       "      <th>avg_rating</th>\n",
       "      <th>total_votes</th>\n",
       "    </tr>\n",
       "    <tr>\n",
       "      <th>Restaurant Name</th>\n",
       "      <th></th>\n",
       "      <th></th>\n",
       "      <th></th>\n",
       "    </tr>\n",
       "  </thead>\n",
       "  <tbody>\n",
       "    <tr>\n",
       "      <th>Cafe Coffee Day</th>\n",
       "      <td>83</td>\n",
       "      <td>2.419277</td>\n",
       "      <td>2428</td>\n",
       "    </tr>\n",
       "    <tr>\n",
       "      <th>Domino's Pizza</th>\n",
       "      <td>79</td>\n",
       "      <td>2.740506</td>\n",
       "      <td>6643</td>\n",
       "    </tr>\n",
       "    <tr>\n",
       "      <th>Subway</th>\n",
       "      <td>63</td>\n",
       "      <td>2.907937</td>\n",
       "      <td>6124</td>\n",
       "    </tr>\n",
       "    <tr>\n",
       "      <th>Green Chick Chop</th>\n",
       "      <td>51</td>\n",
       "      <td>2.672549</td>\n",
       "      <td>964</td>\n",
       "    </tr>\n",
       "    <tr>\n",
       "      <th>McDonald's</th>\n",
       "      <td>48</td>\n",
       "      <td>3.339583</td>\n",
       "      <td>5291</td>\n",
       "    </tr>\n",
       "    <tr>\n",
       "      <th>...</th>\n",
       "      <td>...</td>\n",
       "      <td>...</td>\n",
       "      <td>...</td>\n",
       "    </tr>\n",
       "    <tr>\n",
       "      <th>Gian Ji Punjabi Dhaba</th>\n",
       "      <td>1</td>\n",
       "      <td>0.000000</td>\n",
       "      <td>0</td>\n",
       "    </tr>\n",
       "    <tr>\n",
       "      <th>Ghungroo Club &amp; Bar - By Gautam Gambhir</th>\n",
       "      <td>1</td>\n",
       "      <td>3.800000</td>\n",
       "      <td>140</td>\n",
       "    </tr>\n",
       "    <tr>\n",
       "      <th>Ghar Ki Handi</th>\n",
       "      <td>1</td>\n",
       "      <td>3.000000</td>\n",
       "      <td>6</td>\n",
       "    </tr>\n",
       "    <tr>\n",
       "      <th>Ghar Ka Swad</th>\n",
       "      <td>1</td>\n",
       "      <td>0.000000</td>\n",
       "      <td>2</td>\n",
       "    </tr>\n",
       "    <tr>\n",
       "      <th>�ukura��a Sofras۱</th>\n",
       "      <td>1</td>\n",
       "      <td>4.400000</td>\n",
       "      <td>296</td>\n",
       "    </tr>\n",
       "  </tbody>\n",
       "</table>\n",
       "<p>7446 rows × 3 columns</p>\n",
       "</div>"
      ],
      "text/plain": [
       "                                         num_locations  avg_rating  \\\n",
       "Restaurant Name                                                      \n",
       "Cafe Coffee Day                                     83    2.419277   \n",
       "Domino's Pizza                                      79    2.740506   \n",
       "Subway                                              63    2.907937   \n",
       "Green Chick Chop                                    51    2.672549   \n",
       "McDonald's                                          48    3.339583   \n",
       "...                                                ...         ...   \n",
       "Gian Ji Punjabi Dhaba                                1    0.000000   \n",
       "Ghungroo Club & Bar - By Gautam Gambhir              1    3.800000   \n",
       "Ghar Ki Handi                                        1    3.000000   \n",
       "Ghar Ka Swad                                         1    0.000000   \n",
       "�ukura��a Sofras۱                                    1    4.400000   \n",
       "\n",
       "                                         total_votes  \n",
       "Restaurant Name                                       \n",
       "Cafe Coffee Day                                 2428  \n",
       "Domino's Pizza                                  6643  \n",
       "Subway                                          6124  \n",
       "Green Chick Chop                                 964  \n",
       "McDonald's                                      5291  \n",
       "...                                              ...  \n",
       "Gian Ji Punjabi Dhaba                              0  \n",
       "Ghungroo Club & Bar - By Gautam Gambhir          140  \n",
       "Ghar Ki Handi                                      6  \n",
       "Ghar Ka Swad                                       2  \n",
       "�ukura��a Sofras۱                                296  \n",
       "\n",
       "[7446 rows x 3 columns]"
      ]
     },
     "execution_count": 33,
     "metadata": {},
     "output_type": "execute_result"
    }
   ],
   "source": [
    "chain_analysis = df.groupby('Restaurant Name').agg(num_locations = ('Restaurant Name', 'count'),\n",
    "                                                   avg_rating = ('Aggregate rating', 'mean'),\n",
    "                                                   total_votes = ('Votes', 'sum'))\n",
    "chain_analysis.sort_values(ascending = False, by='num_locations')"
   ]
  },
  {
   "cell_type": "code",
   "execution_count": null,
   "id": "b401ab7a-63df-4a3e-accc-a2871465865f",
   "metadata": {},
   "outputs": [],
   "source": []
  },
  {
   "cell_type": "markdown",
   "id": "c00ac516-fc83-42bd-8a7d-7de60d895520",
   "metadata": {},
   "source": [
    "#Calculate the average length of reviews and explore if there is a relationship between review length and rating"
   ]
  },
  {
   "cell_type": "code",
   "execution_count": 6,
   "id": "6a76f37f-2265-444d-817d-d21aab1ad278",
   "metadata": {},
   "outputs": [],
   "source": [
    "df['Review_len'] = df['Rating text'].apply(len)"
   ]
  },
  {
   "cell_type": "code",
   "execution_count": 8,
   "id": "07dbccb5-ffec-4cb7-96ff-591312a97041",
   "metadata": {},
   "outputs": [
    {
     "name": "stdout",
     "output_type": "stream",
     "text": [
      "Average review length: 7.02 words\n"
     ]
    }
   ],
   "source": [
    "avg_len = df['Review_len'].mean()\n",
    "print(f\"Average review length: {avg_len:.2f} words\")"
   ]
  },
  {
   "cell_type": "code",
   "execution_count": 10,
   "id": "cc0f12d5-03c8-43a7-99f8-30474218cbb1",
   "metadata": {},
   "outputs": [],
   "source": [
    "correlation = df[['Review_len','Aggregate rating']].corr().iloc[0,1]"
   ]
  },
  {
   "cell_type": "code",
   "execution_count": 12,
   "id": "e6d23efd-18ea-4b47-91a0-fb74fc7277d2",
   "metadata": {},
   "outputs": [
    {
     "name": "stdout",
     "output_type": "stream",
     "text": [
      "Correlation between review length and rating: -0.48\n"
     ]
    }
   ],
   "source": [
    "print(f\"Correlation between review length and rating: {correlation:.2f}\")"
   ]
  },
  {
   "cell_type": "code",
   "execution_count": null,
   "id": "7f6c78e7-36a6-47e1-9e12-60cc449ba488",
   "metadata": {},
   "outputs": [],
   "source": []
  },
  {
   "cell_type": "markdown",
   "id": "ded3ac14-9417-403c-89e6-044d0374d3d0",
   "metadata": {},
   "source": [
    "#Identify the restaurants with the highest and lowest number of votes"
   ]
  },
  {
   "cell_type": "code",
   "execution_count": 15,
   "id": "0c4afd9f-d45b-4faf-81de-45e59fd4802b",
   "metadata": {},
   "outputs": [
    {
     "data": {
      "text/html": [
       "<div>\n",
       "<style scoped>\n",
       "    .dataframe tbody tr th:only-of-type {\n",
       "        vertical-align: middle;\n",
       "    }\n",
       "\n",
       "    .dataframe tbody tr th {\n",
       "        vertical-align: top;\n",
       "    }\n",
       "\n",
       "    .dataframe thead th {\n",
       "        text-align: right;\n",
       "    }\n",
       "</style>\n",
       "<table border=\"1\" class=\"dataframe\">\n",
       "  <thead>\n",
       "    <tr style=\"text-align: right;\">\n",
       "      <th></th>\n",
       "      <th>Restaurant Name</th>\n",
       "      <th>Votes</th>\n",
       "    </tr>\n",
       "  </thead>\n",
       "  <tbody>\n",
       "    <tr>\n",
       "      <th>728</th>\n",
       "      <td>Toit</td>\n",
       "      <td>10934</td>\n",
       "    </tr>\n",
       "  </tbody>\n",
       "</table>\n",
       "</div>"
      ],
      "text/plain": [
       "    Restaurant Name  Votes\n",
       "728            Toit  10934"
      ]
     },
     "execution_count": 15,
     "metadata": {},
     "output_type": "execute_result"
    }
   ],
   "source": [
    "df[df['Votes']==df['Votes'].max()][['Restaurant Name', 'Votes']]"
   ]
  },
  {
   "cell_type": "code",
   "execution_count": 17,
   "id": "96f3dd39-1d85-48f7-8166-7234fe97e672",
   "metadata": {},
   "outputs": [
    {
     "data": {
      "text/html": [
       "<div>\n",
       "<style scoped>\n",
       "    .dataframe tbody tr th:only-of-type {\n",
       "        vertical-align: middle;\n",
       "    }\n",
       "\n",
       "    .dataframe tbody tr th {\n",
       "        vertical-align: top;\n",
       "    }\n",
       "\n",
       "    .dataframe thead th {\n",
       "        text-align: right;\n",
       "    }\n",
       "</style>\n",
       "<table border=\"1\" class=\"dataframe\">\n",
       "  <thead>\n",
       "    <tr style=\"text-align: right;\">\n",
       "      <th></th>\n",
       "      <th>Restaurant Name</th>\n",
       "      <th>Votes</th>\n",
       "    </tr>\n",
       "  </thead>\n",
       "  <tbody>\n",
       "    <tr>\n",
       "      <th>69</th>\n",
       "      <td>Cantinho da Gula</td>\n",
       "      <td>0</td>\n",
       "    </tr>\n",
       "    <tr>\n",
       "      <th>874</th>\n",
       "      <td>The Chaiwalas</td>\n",
       "      <td>0</td>\n",
       "    </tr>\n",
       "    <tr>\n",
       "      <th>879</th>\n",
       "      <td>Fusion Food Corner</td>\n",
       "      <td>0</td>\n",
       "    </tr>\n",
       "    <tr>\n",
       "      <th>880</th>\n",
       "      <td>Punjabi Rasoi</td>\n",
       "      <td>0</td>\n",
       "    </tr>\n",
       "    <tr>\n",
       "      <th>887</th>\n",
       "      <td>Baskin Robbin</td>\n",
       "      <td>0</td>\n",
       "    </tr>\n",
       "  </tbody>\n",
       "</table>\n",
       "</div>"
      ],
      "text/plain": [
       "        Restaurant Name  Votes\n",
       "69     Cantinho da Gula      0\n",
       "874       The Chaiwalas      0\n",
       "879  Fusion Food Corner      0\n",
       "880       Punjabi Rasoi      0\n",
       "887       Baskin Robbin      0"
      ]
     },
     "execution_count": 17,
     "metadata": {},
     "output_type": "execute_result"
    }
   ],
   "source": [
    "df[df['Votes']==df['Votes'].min()][['Restaurant Name', 'Votes']].head(5)"
   ]
  },
  {
   "cell_type": "code",
   "execution_count": null,
   "id": "95825162-d933-4b7f-8574-5c9aeb3911d0",
   "metadata": {},
   "outputs": [],
   "source": []
  },
  {
   "cell_type": "markdown",
   "id": "42f3cb14-934c-4d4d-8536-89b3ad51d542",
   "metadata": {},
   "source": [
    "#Analyze if there is a correlation between the number of votes and the rating of a restaurant"
   ]
  },
  {
   "cell_type": "code",
   "execution_count": 20,
   "id": "8c22bd9d-addc-498d-a005-517ba87eac7c",
   "metadata": {},
   "outputs": [
    {
     "data": {
      "text/html": [
       "<div>\n",
       "<style scoped>\n",
       "    .dataframe tbody tr th:only-of-type {\n",
       "        vertical-align: middle;\n",
       "    }\n",
       "\n",
       "    .dataframe tbody tr th {\n",
       "        vertical-align: top;\n",
       "    }\n",
       "\n",
       "    .dataframe thead th {\n",
       "        text-align: right;\n",
       "    }\n",
       "</style>\n",
       "<table border=\"1\" class=\"dataframe\">\n",
       "  <thead>\n",
       "    <tr style=\"text-align: right;\">\n",
       "      <th></th>\n",
       "      <th>Votes</th>\n",
       "      <th>Aggregate rating</th>\n",
       "    </tr>\n",
       "  </thead>\n",
       "  <tbody>\n",
       "    <tr>\n",
       "      <th>Votes</th>\n",
       "      <td>1.000000</td>\n",
       "      <td>0.313691</td>\n",
       "    </tr>\n",
       "    <tr>\n",
       "      <th>Aggregate rating</th>\n",
       "      <td>0.313691</td>\n",
       "      <td>1.000000</td>\n",
       "    </tr>\n",
       "  </tbody>\n",
       "</table>\n",
       "</div>"
      ],
      "text/plain": [
       "                     Votes  Aggregate rating\n",
       "Votes             1.000000          0.313691\n",
       "Aggregate rating  0.313691          1.000000"
      ]
     },
     "execution_count": 20,
     "metadata": {},
     "output_type": "execute_result"
    }
   ],
   "source": [
    "corr_ = df[['Votes','Aggregate rating']].corr()\n",
    "corr_"
   ]
  },
  {
   "cell_type": "code",
   "execution_count": 22,
   "id": "7523b786-d46d-42ce-81ee-a83bc95dbc1b",
   "metadata": {},
   "outputs": [
    {
     "data": {
      "text/plain": [
       "0.31369058419540985"
      ]
     },
     "execution_count": 22,
     "metadata": {},
     "output_type": "execute_result"
    }
   ],
   "source": [
    "corr_.iloc[0,1]"
   ]
  },
  {
   "cell_type": "code",
   "execution_count": null,
   "id": "47c94968-073b-4590-8313-16038d415f25",
   "metadata": {},
   "outputs": [],
   "source": []
  },
  {
   "cell_type": "markdown",
   "id": "8976cbf9-b59c-4bfe-9424-efb281f70e78",
   "metadata": {},
   "source": [
    "#Analyze if there is a relationship between the price range and the availability of online delivery and table booking"
   ]
  },
  {
   "cell_type": "code",
   "execution_count": 25,
   "id": "b0962295-c1e8-446e-b881-11edd1f5e8a3",
   "metadata": {},
   "outputs": [],
   "source": [
    "df['online_deliv'] = df['Has Online delivery'].map({'Yes': 1, 'No': 0})\n",
    "df['table_book'] = df['Has Table booking'].map({'Yes':1,'No':0})"
   ]
  },
  {
   "cell_type": "code",
   "execution_count": 27,
   "id": "c81c7db9-952a-4bc5-9746-8b3bc0040117",
   "metadata": {},
   "outputs": [
    {
     "data": {
      "text/html": [
       "<div>\n",
       "<style scoped>\n",
       "    .dataframe tbody tr th:only-of-type {\n",
       "        vertical-align: middle;\n",
       "    }\n",
       "\n",
       "    .dataframe tbody tr th {\n",
       "        vertical-align: top;\n",
       "    }\n",
       "\n",
       "    .dataframe thead th {\n",
       "        text-align: right;\n",
       "    }\n",
       "</style>\n",
       "<table border=\"1\" class=\"dataframe\">\n",
       "  <thead>\n",
       "    <tr style=\"text-align: right;\">\n",
       "      <th></th>\n",
       "      <th>total</th>\n",
       "      <th>online_available</th>\n",
       "      <th>table_booking</th>\n",
       "    </tr>\n",
       "    <tr>\n",
       "      <th>Price range</th>\n",
       "      <th></th>\n",
       "      <th></th>\n",
       "      <th></th>\n",
       "    </tr>\n",
       "  </thead>\n",
       "  <tbody>\n",
       "    <tr>\n",
       "      <th>1</th>\n",
       "      <td>4444</td>\n",
       "      <td>701</td>\n",
       "      <td>1</td>\n",
       "    </tr>\n",
       "    <tr>\n",
       "      <th>2</th>\n",
       "      <td>3113</td>\n",
       "      <td>1286</td>\n",
       "      <td>239</td>\n",
       "    </tr>\n",
       "    <tr>\n",
       "      <th>3</th>\n",
       "      <td>1408</td>\n",
       "      <td>411</td>\n",
       "      <td>644</td>\n",
       "    </tr>\n",
       "    <tr>\n",
       "      <th>4</th>\n",
       "      <td>586</td>\n",
       "      <td>53</td>\n",
       "      <td>274</td>\n",
       "    </tr>\n",
       "  </tbody>\n",
       "</table>\n",
       "</div>"
      ],
      "text/plain": [
       "             total  online_available  table_booking\n",
       "Price range                                        \n",
       "1             4444               701              1\n",
       "2             3113              1286            239\n",
       "3             1408               411            644\n",
       "4              586                53            274"
      ]
     },
     "execution_count": 27,
     "metadata": {},
     "output_type": "execute_result"
    }
   ],
   "source": [
    "df.groupby('Price range').agg(total = ('Price range','count'),\n",
    "                              online_available = ('online_deliv','sum'),\n",
    "                              table_booking = ('table_book','sum'))"
   ]
  },
  {
   "cell_type": "code",
   "execution_count": null,
   "id": "c07fe4de-8677-44d8-8cfe-942599e3fd0b",
   "metadata": {},
   "outputs": [],
   "source": []
  },
  {
   "cell_type": "code",
   "execution_count": null,
   "id": "ee401afc-36b2-4e73-bb12-2148f68179f6",
   "metadata": {},
   "outputs": [],
   "source": []
  }
 ],
 "metadata": {
  "kernelspec": {
   "display_name": "Python 3 (ipykernel)",
   "language": "python",
   "name": "python3"
  },
  "language_info": {
   "codemirror_mode": {
    "name": "ipython",
    "version": 3
   },
   "file_extension": ".py",
   "mimetype": "text/x-python",
   "name": "python",
   "nbconvert_exporter": "python",
   "pygments_lexer": "ipython3",
   "version": "3.12.7"
  }
 },
 "nbformat": 4,
 "nbformat_minor": 5
}
